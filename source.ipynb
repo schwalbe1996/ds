{
  "cells": [
    {
      "cell_type": "markdown",
      "metadata": {
        "id": "HkxtVuc6334y"
      },
      "source": [
        "# データサイエンス応用基礎 3.6章「認識」ソースコード\n",
        "- google colabでも動作するようにしています．google colabで動かす場合は右のボタンをクリックしてください．\n",
        "[![google colabで開く](https://colab.research.google.com/assets/colab-badge.svg)](https://colab.research.google.com/github/schwalbe1996/ds/blob/main/source.ipynb)\n",
        "- google colabで動かす場合は，「ランタイム」⇒「ランタイムのタイプを変更」からハードウェアアクセラレータを有効（CPU以外）にすることをお勧めします．（CPUでも動作しますが処理速度が非常に遅いです)\n"
      ]
    },
    {
      "cell_type": "code",
      "execution_count": 5,
      "metadata": {
        "id": "IYS7Se453_zk"
      },
      "outputs": [],
      "source": [
        "import torch\n",
        "from torchvision import datasets\n",
        "from torchvision.transforms import ToTensor\n",
        "from torch.utils.data import DataLoader\n",
        "from torch import nn\n",
        "\n",
        "# GPUが使える場合はGPUを使うように設定します．\n",
        "device = \"cuda\" if torch.cuda.is_available() else \"cpu\""
      ]
    },
    {
      "cell_type": "code",
      "execution_count": 6,
      "metadata": {
        "colab": {
          "base_uri": "https://localhost:8080/"
        },
        "id": "rIFoOoAA8POr",
        "outputId": "bafbadf6-098e-4931-bca1-8d68959ed944"
      },
      "outputs": [],
      "source": [
        "# MNISTデータセットを自動的にダウンロードして用意します．\n",
        "\n",
        "batch_size=32 # ミニバッチのサイズをここで指定してます\n",
        "\n",
        "training_data = datasets.MNIST('data', train=True, download=True, transform=ToTensor())\n",
        "test_data = datasets.MNIST('data', train=False, download=True, transform=ToTensor())\n",
        "train_dataloader = DataLoader(training_data, batch_size, shuffle=True)\n",
        "test_dataloader = DataLoader(test_data, batch_size)\n"
      ]
    },
    {
      "cell_type": "code",
      "execution_count": 7,
      "metadata": {
        "id": "FFD_HyLH60kw"
      },
      "outputs": [],
      "source": [
        "# 畳み込みニューラルネットワークのモデル\n",
        "class MyModel(nn.Module):\n",
        "    def __init__(self):\n",
        "        super().__init__()\n",
        "        # 最初の畳み込み層＋Maxプーリング層\n",
        "        self.layer1 = nn.Sequential(\n",
        "            nn.Conv2d(1, 6, 5),\n",
        "            nn.ReLU(),\n",
        "            nn.MaxPool2d(2,2)\n",
        "        )\n",
        "        # 2番目の畳み込み層+Maxプーリング層\n",
        "        self.layer2 = nn.Sequential(\n",
        "            nn.Conv2d(6, 16, 5),\n",
        "            nn.ReLU(),\n",
        "            nn.MaxPool2d(2,2)\n",
        "        )\n",
        "        # 2番目のプーリング層の出力（16チャンネル4x4）を入力とした全結合層．出力は120次元\n",
        "        self.fc1 = nn.Sequential(\n",
        "            nn.Linear(16*4*4, 120),\n",
        "            nn.ReLU()\n",
        "        )\n",
        "        # 2つめの全結合層．入力は120次元，出力は84次元\n",
        "        self.fc2 = nn.Sequential(\n",
        "            nn.Linear(120, 84),\n",
        "            nn.ReLU()\n",
        "        )\n",
        "        # 最後の全結合層．入力は84次元，出力は（クラス数と同じ）10次元\n",
        "        self.fc3 = nn.Linear(84, 10)\n",
        "\n",
        "    def forward(self, x):\n",
        "        out = self.layer1(x)\n",
        "        out = self.layer2(out)\n",
        "        out = out.reshape(out.size(0), -1)\n",
        "        out = self.fc1(out)\n",
        "        out = self.fc2(out)\n",
        "        return self.fc3(out)"
      ]
    },
    {
      "cell_type": "code",
      "execution_count": null,
      "metadata": {
        "colab": {
          "base_uri": "https://localhost:8080/"
        },
        "id": "9bLAdFkY7xDR",
        "outputId": "45825770-514c-466f-9e09-d55107fce44c"
      },
      "outputs": [],
      "source": [
        "model = MyModel().to(device) # 上で記述したモデルを使います\n",
        "loss_func = nn.CrossEntropyLoss() # 損失関数にクロスエントロピーを用いる\n",
        "optimizer = torch.optim.Adam(model.parameters(), lr=1.0e-4) # 最適化手法にAdamを用いる\n",
        "\n",
        "epochs = 10 # エポック数の設定．学習データをepochs回繰り返し用いる．\n",
        "for epoch in range(epochs):\n",
        "    train_loss = 0\n",
        "    test_loss = 0\n",
        "    correct = 0\n",
        "    # 学習部分\n",
        "    model.train()\n",
        "    for i, (X,y) in enumerate(train_dataloader):\n",
        "        X = X.to(device)\n",
        "        y = y.to(device)\n",
        "\n",
        "        model.zero_grad()\n",
        "        y_pred = model(X)\n",
        "        loss = loss_func(y_pred, y)\n",
        "        loss.backward()\n",
        "        optimizer.step()\n",
        "\n",
        "        train_loss += loss.item()\n",
        "        train_loss /= len(train_dataloader)\n",
        "    # テストデータを用いて損失と正解率を計算\n",
        "    model.eval()\n",
        "    for i, (X,y) in enumerate(test_dataloader):\n",
        "        X = X.to(device)\n",
        "        y = y.to(device)\n",
        "\n",
        "        y_pred = model(X)\n",
        "        loss = loss_func(y_pred, y)\n",
        "        test_loss += loss.item()\n",
        "        correct += (y_pred.argmax(dim=1) == y).sum().item()\n",
        "\n",
        "    test_loss /= len(test_dataloader)\n",
        "    correct /= len(test_dataloader.dataset)\n",
        "    print('Epoch:', epoch, 'Train Loss:', train_loss, 'Test Loss:', test_loss, 'Accuracy:', correct)"
      ]
    },
    {
      "cell_type": "code",
      "execution_count": null,
      "metadata": {
        "colab": {
          "base_uri": "https://localhost:8080/"
        },
        "id": "lfErPtpV9H7U",
        "outputId": "14c2ac40-5e85-419c-c9f5-b2a6e38c931b"
      },
      "outputs": [],
      "source": [
        "# テスト用データセットから1バッチ分だけデータを読み込んできて予測するコード\n",
        "x,y = next(iter(test_dataloader)) # 1バッチ分だけデータを読み込んでくる\n",
        "model.eval()\n",
        "x = x.to(device)\n",
        "pred = model(x).argmax(dim=1).cpu() # 予測部分\n",
        "print(f\"正解＝{y[0:10]}\") # 最初の10個の正解ラベルを出力\n",
        "print(f\"予測={pred[0:10]}\") # 最初の10個の予測を出力"
      ]
    },
    {
      "cell_type": "code",
      "execution_count": 10,
      "metadata": {
        "id": "H7URLm4b989j"
      },
      "outputs": [],
      "source": [
        "# 学習済のモデルを保存するコード\n",
        "torch.save(model.state_dict(), \"model.pth\")"
      ]
    },
    {
      "cell_type": "code",
      "execution_count": 13,
      "metadata": {},
      "outputs": [],
      "source": [
        "# 学習済のモデルを読み込む場合\n",
        "model = MyModel() # 「class MyModel(nn.Module)」のコードを実行しておく必要があります\n",
        "model.load_state_dict(torch.load(\"model.pth\"))\n",
        "model = model.to(device)"
      ]
    },
    {
      "cell_type": "code",
      "execution_count": null,
      "metadata": {},
      "outputs": [],
      "source": []
    }
  ],
  "metadata": {
    "accelerator": "GPU",
    "colab": {
      "gpuType": "T4",
      "provenance": []
    },
    "kernelspec": {
      "display_name": "Python 3",
      "name": "python3"
    },
    "language_info": {
      "codemirror_mode": {
        "name": "ipython",
        "version": 3
      },
      "file_extension": ".py",
      "mimetype": "text/x-python",
      "name": "python",
      "nbconvert_exporter": "python",
      "pygments_lexer": "ipython3",
      "version": "3.11.6"
    }
  },
  "nbformat": 4,
  "nbformat_minor": 0
}
